{
 "cells": [
  {
   "cell_type": "code",
   "execution_count": 2,
   "metadata": {},
   "outputs": [],
   "source": [
    "import pandas as pd\n",
    "import json\n",
    "\n",
    "with open('data_full.json') as json_file: \n",
    "    data_dict = json.load(json_file) \n",
    "\n",
    "train_data = data_dict['train']\n",
    "val_data = data_dict['val']\n",
    "test_data = data_dict['test']\n",
    "\n",
    "oos_train = data_dict['oos_train']\n",
    "oos_val = data_dict['oos_val']\n",
    "oos_test = data_dict['oos_test']\n",
    "\n",
    "\n",
    "train_df = pd.DataFrame(train_data, columns =['query', 'intent'])\n",
    "val_df = pd.DataFrame(val_data, columns =['query', 'intent'])\n",
    "test_df = pd.DataFrame(test_data, columns =['query', 'intent'])\n",
    "\n",
    "#print(train_df.head())\n",
    "# grouping\n",
    "#train_df.to_excel('ds_grouped.xlsx',sheet_name=\"Sheet1\")\n",
    "#train_df.groupby(\"intent\").count().to_excel('ds_grouped.xlsx',sheet_name=\"Sheet1\")"
   ]
  },
  {
   "cell_type": "code",
   "execution_count": 3,
   "metadata": {},
   "outputs": [
    {
     "name": "stdout",
     "output_type": "stream",
     "text": [
      "[['how much is an overdraft fee for bank', 'oos'], ['why are exponents preformed before multiplication in the order of operations', 'oos']]\n"
     ]
    }
   ],
   "source": [
    "print(oos_train[:2])"
   ]
  }
 ],
 "metadata": {
  "kernelspec": {
   "display_name": "venvpy3107",
   "language": "python",
   "name": "python3"
  },
  "language_info": {
   "codemirror_mode": {
    "name": "ipython",
    "version": 3
   },
   "file_extension": ".py",
   "mimetype": "text/x-python",
   "name": "python",
   "nbconvert_exporter": "python",
   "pygments_lexer": "ipython3",
   "version": "3.10.7"
  },
  "orig_nbformat": 4
 },
 "nbformat": 4,
 "nbformat_minor": 2
}
