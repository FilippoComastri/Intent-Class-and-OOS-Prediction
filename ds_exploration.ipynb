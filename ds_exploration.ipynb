{
 "cells": [
  {
   "cell_type": "code",
   "execution_count": null,
   "metadata": {},
   "outputs": [],
   "source": [
    "import pandas as pd\n",
    "import json\n",
    "\n",
    "with open('data_full.json') as json_file: \n",
    "    data_dict = json.load(json_file) \n",
    "\n",
    "print(data_dict.keys())"
   ]
  },
  {
   "cell_type": "code",
   "execution_count": null,
   "metadata": {},
   "outputs": [],
   "source": [
    "\n",
    "\n",
    "train_data = data_dict['train']\n",
    "val_data = data_dict['val']\n",
    "test_data = data_dict['test']\n",
    "\n",
    "oos_train = data_dict['oos_train']\n",
    "oos_val = data_dict['oos_val']\n",
    "oos_test = data_dict['oos_test']\n",
    "\n",
    "\n",
    "train_df = pd.DataFrame(train_data, columns =['query', 'intent'])\n",
    "val_df = pd.DataFrame(val_data, columns =['query', 'intent'])\n",
    "test_df = pd.DataFrame(test_data, columns =['query', 'intent'])\n",
    "\n",
    "#print(train_df.head())\n",
    "# grouping\n",
    "#train_df.groupby(\"intent\").count().to_excel('ds_grouped.xlsx',sheet_name=\"Sheet1\")"
   ]
  },
  {
   "cell_type": "code",
   "execution_count": null,
   "metadata": {},
   "outputs": [],
   "source": [
    "from sklearn.feature_extraction.text import CountVectorizer\n",
    "from wordcloud import WordCloud\n",
    "import matplotlib.pyplot as plt\n",
    "from collections import Counter\n",
    "from nltk import word_tokenize\n",
    "from nltk.corpus import stopwords\n",
    "\n",
    "# concatenating validation and train set\n",
    "frames = [train_df,val_df]\n",
    "train_val_df = pd.concat(frames)\n",
    "\n",
    "intent_class=[\"fun_fact\",\"replacement_card_duration\",\"time\",\"maybe\",\"car_rental\"]\n",
    "\n",
    "fun_fact = train_val_df[train_val_df['intent']==intent_class[0]]\n",
    "fun_fact_list = fun_fact['query'].tolist()\n",
    "\n",
    "\n",
    "vectorizer = CountVectorizer(stop_words='english')\n",
    "X = vectorizer.fit_transform(fun_fact_list).toarray()\n",
    "\n",
    "\n",
    "\n",
    "tokens_list = []\n",
    "wordcloud = WordCloud().generate(\" \".join(fun_fact_list))\n",
    "tokens = word_tokenize(\" \".join(fun_fact_list))\n",
    "tokens_list=[w for w in tokens if w not in list(stopwords.words('english'))]\n",
    "c = Counter(tokens_list)\n",
    "most_common = c.most_common(10)\n",
    "\n",
    "print(\"Number of types:\",len(set(tokens_list)))\n",
    "print(\"Most common type:\",most_common)\n",
    "\n",
    "feats = [feat[0] for feat in most_common]\n",
    "counts = [count[1] for count in most_common]\n",
    "\n",
    "plt.bar(feats,counts)\n",
    "plt.xticks(rotation=30, ha='right')\n",
    "\n",
    "\n",
    "plt.figure()\n",
    "plt.imshow(wordcloud)\n",
    "plt.axis('off')\n",
    "plt.show()\n",
    "\n"
   ]
  },
  {
   "cell_type": "code",
   "execution_count": null,
   "metadata": {},
   "outputs": [],
   "source": [
    "\n",
    "vectorizer = CountVectorizer(ngram_range=(2,2))\n",
    "X = vectorizer.fit_transform([\" \".join(fun_fact_list)]).toarray()\n",
    "\n",
    "print(X.shape)\n"
   ]
  }
 ],
 "metadata": {
  "kernelspec": {
   "display_name": "venvpy3107",
   "language": "python",
   "name": "python3"
  },
  "language_info": {
   "codemirror_mode": {
    "name": "ipython",
    "version": 3
   },
   "file_extension": ".py",
   "mimetype": "text/x-python",
   "name": "python",
   "nbconvert_exporter": "python",
   "pygments_lexer": "ipython3",
   "version": "3.10.7"
  },
  "orig_nbformat": 4
 },
 "nbformat": 4,
 "nbformat_minor": 2
}
