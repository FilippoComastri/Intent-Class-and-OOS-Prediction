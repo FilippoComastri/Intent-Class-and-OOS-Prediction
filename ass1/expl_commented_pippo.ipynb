{
 "cells": [
  {
   "cell_type": "code",
   "execution_count": 15,
   "metadata": {},
   "outputs": [
    {
     "name": "stdout",
     "output_type": "stream",
     "text": [
      "dict_keys(['oos_val', 'val', 'train', 'oos_test', 'test', 'oos_train'])\n"
     ]
    }
   ],
   "source": [
    "import pandas as pd\n",
    "import json\n",
    "from matplotlib import pyplot as plt\n",
    "\n",
    "\n",
    "with open('data_full.json') as json_file: \n",
    "    data_dict = json.load(json_file) \n",
    "\n",
    "print(data_dict.keys())"
   ]
  },
  {
   "cell_type": "code",
   "execution_count": 16,
   "metadata": {},
   "outputs": [],
   "source": [
    "train_data = data_dict['train']\n",
    "val_data = data_dict['val']\n",
    "test_data = data_dict['test']\n",
    "\n",
    "oos_train = data_dict['oos_train']\n",
    "oos_val = data_dict['oos_val']\n",
    "oos_test = data_dict['oos_test']\n",
    "\n",
    "\n",
    "train_df = pd.DataFrame(train_data, columns =['query', 'intent'])\n",
    "val_df = pd.DataFrame(val_data, columns =['query', 'intent'])\n",
    "test_df = pd.DataFrame(test_data, columns =['query', 'intent'])\n",
    "\n",
    "#print(train_df.head())\n",
    "# grouping\n",
    "#train_df.groupby(\"intent\").count().to_excel('ds_grouped.xlsx',sheet_name=\"Sheet1\")"
   ]
  },
  {
   "attachments": {},
   "cell_type": "markdown",
   "metadata": {},
   "source": [
    "The paper related to this dataset is from November 2018, so the genre of the dataset is modern and the language used is English.\n",
    "\n",
    "The provided dataset contains 23,700 queries, including 22,500 in-scope queries covering 150 intents, which can be grouped into 10 general domains. For each intent, there are 100 training, 20 validation and 30 testing queries.  \n",
    "\n",
    "The dataset also included 1,200 out-of-scope queries. Of the 1,200 out-of-scope queries collected, 100 are used for validation and 100 are used for training, leaving 1,000 for testing.\n",
    "\n",
    "Therefore, the dataset is very balanced between in-scope intent classes. Instead, it's very unbalanced between in-scope and out-of-scope training samples because we have 15,000 in-scope queries and only 100 out-of-scope queries. But if we consider out-of-scope as an intent class we have a dataset with 151 intents and very balanced. "
   ]
  },
  {
   "cell_type": "code",
   "execution_count": 19,
   "metadata": {},
   "outputs": [
    {
     "data": {
      "image/png": "[encoded data removed]",
      "text/plain": [
       "<Figure size 640x480 with 1 Axes>"
      ]
     },
     "metadata": {},
     "output_type": "display_data"
    }
   ],
   "source": [
    "plt.pie([len(train_data), len(oos_train)],labels=['In-scope', 'Out-of-scope'])\n",
    "plt.legend(loc='upper right')\n",
    "plt.show()"
   ]
  },
  {
   "cell_type": "markdown",
   "metadata": {},
   "source": [
    "\n",
    "\n",
    "The in-scope queries were collected using a scoping crowdsourcing task, which prompted crowd workers to provide questions and commands related to topic domains in the manner they would interact with an artificially intelligent assistant. Then data generated by scoping task were manually grouped into intents. \n",
    "\n",
    "Out-of-scope queries were collected in two ways. First, using worker mistakes: queries written for\n",
    "one of the 150 intents that did not actually match any of the intents. Second, using scoping and\n",
    "scenario tasks with prompts based on topic areas found on Quora, Wikipedia, and elsewhere. \n",
    "\n",
    "For all queries collected, all tokens were downcased, and all end-of-sentence punctuation was removed.\n",
    "Additionally, all duplicate queries were removed and replaced.\n",
    "Trying to reduce bias in the in-scope data, all queries from a given crowd worker were placed in\n",
    "a single split (train, validation, or test). This avoids the potential issue of similar queries from a crowd worker ending up in both the train and test sets,for instance, which would make the train and test\n",
    "distributions unrealistically similar.\n",
    "\n"
   ]
  },
  {
   "cell_type": "code",
   "execution_count": null,
   "metadata": {},
   "outputs": [],
   "source": [
    "from sklearn.feature_extraction.text import CountVectorizer\n",
    "from wordcloud import WordCloud\n",
    "import matplotlib.pyplot as plt\n",
    "from collections import Counter\n",
    "from nltk import word_tokenize\n",
    "from nltk.corpus import stopwords\n",
    "\n",
    "# concatenating validation and train set\n",
    "frames = [train_df,val_df]\n",
    "train_val_df = pd.concat(frames)\n",
    "\n",
    "intent_class=[\"fun_fact\",\"replacement_card_duration\",\"time\",\"maybe\",\"car_rental\"]\n",
    "\n",
    "fun_fact = train_val_df[train_val_df['intent']==intent_class[0]]\n",
    "fun_fact_list = fun_fact['query'].tolist()\n",
    "\n",
    "\n",
    "vectorizer = CountVectorizer(stop_words='english')\n",
    "X = vectorizer.fit_transform(fun_fact_list).toarray()\n",
    "\n",
    "\n",
    "\n",
    "tokens_list = []\n",
    "wordcloud = WordCloud().generate(\" \".join(fun_fact_list))\n",
    "tokens = word_tokenize(\" \".join(fun_fact_list))\n",
    "tokens_list=[w for w in tokens if w not in list(stopwords.words('english'))]\n",
    "c = Counter(tokens_list)\n",
    "most_common = c.most_common(10)\n",
    "\n",
    "print(\"Number of types:\",len(set(tokens_list)))\n",
    "print(\"Most common type:\",most_common)\n",
    "\n",
    "feats = [feat[0] for feat in most_common]\n",
    "counts = [count[1] for count in most_common]\n",
    "\n",
    "plt.bar(feats,counts)\n",
    "plt.xticks(rotation=30, ha='right')\n",
    "\n",
    "\n",
    "plt.figure()\n",
    "plt.imshow(wordcloud)\n",
    "plt.axis('off')\n",
    "plt.show()\n",
    "\n"
   ]
  },
  {
   "cell_type": "code",
   "execution_count": null,
   "metadata": {},
   "outputs": [],
   "source": [
    "\n",
    "vectorizer = CountVectorizer(ngram_range=(2,2))\n",
    "X = vectorizer.fit_transform([\" \".join(fun_fact_list)]).toarray()\n",
    "\n",
    "print(X.shape)\n"
   ]
  }
 ],
 "metadata": {
  "kernelspec": {
   "display_name": "venvpy3107",
   "language": "python",
   "name": "python3"
  },
  "language_info": {
   "codemirror_mode": {
    "name": "ipython",
    "version": 3
   },
   "file_extension": ".py",
   "mimetype": "text/x-python",
   "name": "python",
   "nbconvert_exporter": "python",
   "pygments_lexer": "ipython3",
   "version": "3.10.7"
  },
  "orig_nbformat": 4
 },
 "nbformat": 4,
 "nbformat_minor": 2
}
